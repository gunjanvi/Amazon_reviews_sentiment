{
 "cells": [
  {
   "cell_type": "code",
   "execution_count": 1,
   "metadata": {
    "_cell_guid": "b1076dfc-b9ad-4769-8c92-a6c4dae69d19",
    "_uuid": "8f2839f25d086af736a60e9eeb907d3b93b6e0e5",
    "execution": {
     "iopub.execute_input": "2021-03-07T07:37:45.007046Z",
     "iopub.status.busy": "2021-03-07T07:37:45.006443Z",
     "iopub.status.idle": "2021-03-07T07:37:45.009629Z",
     "shell.execute_reply": "2021-03-07T07:37:45.009040Z"
    },
    "papermill": {
     "duration": 0.030861,
     "end_time": "2021-03-07T07:37:45.009828",
     "exception": false,
     "start_time": "2021-03-07T07:37:44.978967",
     "status": "completed"
    },
    "tags": []
   },
   "outputs": [],
   "source": [
    "import numpy as np \n",
    "import pandas as pd \n",
    "import bz2\n",
    "import re "
   ]
  },
  {
   "cell_type": "code",
   "execution_count": 2,
   "metadata": {
    "execution": {
     "iopub.execute_input": "2021-03-07T07:37:45.058763Z",
     "iopub.status.busy": "2021-03-07T07:37:45.058222Z",
     "iopub.status.idle": "2021-03-07T07:37:45.076125Z",
     "shell.execute_reply": "2021-03-07T07:37:45.075725Z"
    },
    "papermill": {
     "duration": 0.044278,
     "end_time": "2021-03-07T07:37:45.076263",
     "exception": false,
     "start_time": "2021-03-07T07:37:45.031985",
     "status": "completed"
    },
    "tags": []
   },
   "outputs": [
    {
     "name": "stdout",
     "output_type": "stream",
     "text": [
      "/kaggle/input/amazonreviews/test.ft.txt.bz2\n",
      "/kaggle/input/amazonreviews/train.ft.txt.bz2\n"
     ]
    }
   ],
   "source": [
    "# This Python 3 environment comes with many helpful analytics libraries installed\n",
    "# It is defined by the kaggle/python Docker image: https://github.com/kaggle/docker-python\n",
    "# For example, here's several helpful packages to load\n",
    "\n",
    "import numpy as np # linear algebra\n",
    "import pandas as pd # data processing, CSV file I/O (e.g. pd.read_csv)\n",
    "\n",
    "# Input data files are available in the read-only \"../input/\" directory\n",
    "# For example, running this (by clicking run or pressing Shift+Enter) will list all files under the input directory\n",
    "\n",
    "import os\n",
    "for dirname, _, filenames in os.walk('/kaggle/input'):\n",
    "    for filename in filenames:\n",
    "        print(os.path.join(dirname, filename))\n",
    "\n",
    "        \n",
    "# You can write up to 5GB to the current directory (/kaggle/working/) that gets preserved as output when you create a version using \"Save & Run All\" "
   ]
  },
  {
   "cell_type": "code",
   "execution_count": 3,
   "metadata": {
    "execution": {
     "iopub.execute_input": "2021-03-07T07:37:45.124559Z",
     "iopub.status.busy": "2021-03-07T07:37:45.124020Z",
     "iopub.status.idle": "2021-03-07T07:37:45.129520Z",
     "shell.execute_reply": "2021-03-07T07:37:45.128938Z"
    },
    "papermill": {
     "duration": 0.030746,
     "end_time": "2021-03-07T07:37:45.129643",
     "exception": false,
     "start_time": "2021-03-07T07:37:45.098897",
     "status": "completed"
    },
    "tags": []
   },
   "outputs": [],
   "source": [
    "train_file = bz2.BZ2File('../input/amazonreviews/train.ft.txt.bz2')\n",
    "test_file = bz2.BZ2File('../input/amazonreviews/test.ft.txt.bz2')"
   ]
  },
  {
   "cell_type": "code",
   "execution_count": 4,
   "metadata": {
    "execution": {
     "iopub.execute_input": "2021-03-07T07:37:45.178960Z",
     "iopub.status.busy": "2021-03-07T07:37:45.178464Z",
     "iopub.status.idle": "2021-03-07T07:39:25.584228Z",
     "shell.execute_reply": "2021-03-07T07:39:25.583075Z"
    },
    "papermill": {
     "duration": 100.431314,
     "end_time": "2021-03-07T07:39:25.584389",
     "exception": false,
     "start_time": "2021-03-07T07:37:45.153075",
     "status": "completed"
    },
    "tags": []
   },
   "outputs": [],
   "source": [
    "#Reading Data set\n",
    "train_file = train_file.readlines()\n",
    "test_file = test_file.readlines()"
   ]
  },
  {
   "cell_type": "code",
   "execution_count": 5,
   "metadata": {
    "execution": {
     "iopub.execute_input": "2021-03-07T07:39:25.635070Z",
     "iopub.status.busy": "2021-03-07T07:39:25.634533Z",
     "iopub.status.idle": "2021-03-07T07:39:25.638032Z",
     "shell.execute_reply": "2021-03-07T07:39:25.637508Z"
    },
    "papermill": {
     "duration": 0.030676,
     "end_time": "2021-03-07T07:39:25.638143",
     "exception": false,
     "start_time": "2021-03-07T07:39:25.607467",
     "status": "completed"
    },
    "tags": []
   },
   "outputs": [
    {
     "name": "stdout",
     "output_type": "stream",
     "text": [
      "Number of training reivews: 3600000\n",
      "Number of test reviews: 400000\n"
     ]
    }
   ],
   "source": [
    "print(\"Number of training reivews: \" + str(len(train_file)))\n",
    "print(\"Number of test reviews: \" + str(len(test_file)))"
   ]
  },
  {
   "cell_type": "code",
   "execution_count": 6,
   "metadata": {
    "execution": {
     "iopub.execute_input": "2021-03-07T07:39:25.722409Z",
     "iopub.status.busy": "2021-03-07T07:39:25.712152Z",
     "iopub.status.idle": "2021-03-07T07:39:26.047091Z",
     "shell.execute_reply": "2021-03-07T07:39:26.046635Z"
    },
    "papermill": {
     "duration": 0.386052,
     "end_time": "2021-03-07T07:39:26.047244",
     "exception": false,
     "start_time": "2021-03-07T07:39:25.661192",
     "status": "completed"
    },
    "tags": []
   },
   "outputs": [],
   "source": [
    "#training on the first 10000 reviews in the  dataset\n",
    "num_train = 100000\n",
    "#Using 2000 reviews from test set\n",
    "num_test = 20000#Using 200,000 reviews from test set\n",
    "\n",
    "train_file = [x.decode('utf-8') for x in train_file[:num_train]]\n",
    "test_file = [x.decode('utf-8') for x in test_file[:num_test]]"
   ]
  },
  {
   "cell_type": "code",
   "execution_count": 7,
   "metadata": {
    "execution": {
     "iopub.execute_input": "2021-03-07T07:39:26.122097Z",
     "iopub.status.busy": "2021-03-07T07:39:26.111869Z",
     "iopub.status.idle": "2021-03-07T07:39:26.593028Z",
     "shell.execute_reply": "2021-03-07T07:39:26.592543Z"
    },
    "papermill": {
     "duration": 0.522527,
     "end_time": "2021-03-07T07:39:26.593147",
     "exception": false,
     "start_time": "2021-03-07T07:39:26.070620",
     "status": "completed"
    },
    "tags": []
   },
   "outputs": [],
   "source": [
    "train_labels = [0 if x.split(' ')[0] == '__label__1' else 1 for x in train_file]\n",
    "train_sentences = [x.split(' ', 1)[1][:-1].lower() for x in train_file]"
   ]
  },
  {
   "cell_type": "code",
   "execution_count": 8,
   "metadata": {
    "execution": {
     "iopub.execute_input": "2021-03-07T07:39:26.673056Z",
     "iopub.status.busy": "2021-03-07T07:39:26.662842Z",
     "iopub.status.idle": "2021-03-07T07:39:26.751519Z",
     "shell.execute_reply": "2021-03-07T07:39:26.751067Z"
    },
    "papermill": {
     "duration": 0.134844,
     "end_time": "2021-03-07T07:39:26.751643",
     "exception": false,
     "start_time": "2021-03-07T07:39:26.616799",
     "status": "completed"
    },
    "tags": []
   },
   "outputs": [],
   "source": [
    "test_labels = [0 if x.split(' ')[0] == '__label__1' else 1 for x in test_file]\n",
    "test_sentences = [x.split(' ', 1)[1][:-1].lower() for x in test_file]"
   ]
  },
  {
   "cell_type": "code",
   "execution_count": 9,
   "metadata": {
    "execution": {
     "iopub.execute_input": "2021-03-07T07:39:26.861647Z",
     "iopub.status.busy": "2021-03-07T07:39:26.822902Z",
     "iopub.status.idle": "2021-03-07T07:39:26.878787Z",
     "shell.execute_reply": "2021-03-07T07:39:26.878364Z"
    },
    "papermill": {
     "duration": 0.103566,
     "end_time": "2021-03-07T07:39:26.878906",
     "exception": false,
     "start_time": "2021-03-07T07:39:26.775340",
     "status": "completed"
    },
    "tags": []
   },
   "outputs": [],
   "source": [
    "train = pd.DataFrame({'text':train_sentences,'label':train_labels})\n",
    "test=pd.DataFrame({'text':test_sentences,'label':test_labels})"
   ]
  },
  {
   "cell_type": "code",
   "execution_count": 10,
   "metadata": {
    "execution": {
     "iopub.execute_input": "2021-03-07T07:39:26.951055Z",
     "iopub.status.busy": "2021-03-07T07:39:26.950200Z",
     "iopub.status.idle": "2021-03-07T07:39:26.958319Z",
     "shell.execute_reply": "2021-03-07T07:39:26.958721Z"
    },
    "papermill": {
     "duration": 0.056047,
     "end_time": "2021-03-07T07:39:26.958856",
     "exception": false,
     "start_time": "2021-03-07T07:39:26.902809",
     "status": "completed"
    },
    "tags": []
   },
   "outputs": [
    {
     "data": {
      "text/html": [
       "<div>\n",
       "<style scoped>\n",
       "    .dataframe tbody tr th:only-of-type {\n",
       "        vertical-align: middle;\n",
       "    }\n",
       "\n",
       "    .dataframe tbody tr th {\n",
       "        vertical-align: top;\n",
       "    }\n",
       "\n",
       "    .dataframe thead th {\n",
       "        text-align: right;\n",
       "    }\n",
       "</style>\n",
       "<table border=\"1\" class=\"dataframe\">\n",
       "  <thead>\n",
       "    <tr style=\"text-align: right;\">\n",
       "      <th></th>\n",
       "      <th>text</th>\n",
       "      <th>label</th>\n",
       "    </tr>\n",
       "  </thead>\n",
       "  <tbody>\n",
       "    <tr>\n",
       "      <th>0</th>\n",
       "      <td>stuning even for the non-gamer: this sound tra...</td>\n",
       "      <td>1</td>\n",
       "    </tr>\n",
       "    <tr>\n",
       "      <th>1</th>\n",
       "      <td>the best soundtrack ever to anything.: i'm rea...</td>\n",
       "      <td>1</td>\n",
       "    </tr>\n",
       "    <tr>\n",
       "      <th>2</th>\n",
       "      <td>amazing!: this soundtrack is my favorite music...</td>\n",
       "      <td>1</td>\n",
       "    </tr>\n",
       "    <tr>\n",
       "      <th>3</th>\n",
       "      <td>excellent soundtrack: i truly like this soundt...</td>\n",
       "      <td>1</td>\n",
       "    </tr>\n",
       "    <tr>\n",
       "      <th>4</th>\n",
       "      <td>remember, pull your jaw off the floor after he...</td>\n",
       "      <td>1</td>\n",
       "    </tr>\n",
       "    <tr>\n",
       "      <th>5</th>\n",
       "      <td>an absolute masterpiece: i am quite sure any o...</td>\n",
       "      <td>1</td>\n",
       "    </tr>\n",
       "    <tr>\n",
       "      <th>6</th>\n",
       "      <td>buyer beware: this is a self-published book, a...</td>\n",
       "      <td>0</td>\n",
       "    </tr>\n",
       "    <tr>\n",
       "      <th>7</th>\n",
       "      <td>glorious story: i loved whisper of the wicked ...</td>\n",
       "      <td>1</td>\n",
       "    </tr>\n",
       "    <tr>\n",
       "      <th>8</th>\n",
       "      <td>a five star book: i just finished reading whis...</td>\n",
       "      <td>1</td>\n",
       "    </tr>\n",
       "    <tr>\n",
       "      <th>9</th>\n",
       "      <td>whispers of the wicked saints: this was a easy...</td>\n",
       "      <td>1</td>\n",
       "    </tr>\n",
       "  </tbody>\n",
       "</table>\n",
       "</div>"
      ],
      "text/plain": [
       "                                                text  label\n",
       "0  stuning even for the non-gamer: this sound tra...      1\n",
       "1  the best soundtrack ever to anything.: i'm rea...      1\n",
       "2  amazing!: this soundtrack is my favorite music...      1\n",
       "3  excellent soundtrack: i truly like this soundt...      1\n",
       "4  remember, pull your jaw off the floor after he...      1\n",
       "5  an absolute masterpiece: i am quite sure any o...      1\n",
       "6  buyer beware: this is a self-published book, a...      0\n",
       "7  glorious story: i loved whisper of the wicked ...      1\n",
       "8  a five star book: i just finished reading whis...      1\n",
       "9  whispers of the wicked saints: this was a easy...      1"
      ]
     },
     "execution_count": 10,
     "metadata": {},
     "output_type": "execute_result"
    }
   ],
   "source": [
    "train.head(10)"
   ]
  },
  {
   "cell_type": "code",
   "execution_count": 11,
   "metadata": {
    "execution": {
     "iopub.execute_input": "2021-03-07T07:39:27.022816Z",
     "iopub.status.busy": "2021-03-07T07:39:27.022070Z",
     "iopub.status.idle": "2021-03-07T07:39:28.395085Z",
     "shell.execute_reply": "2021-03-07T07:39:28.394619Z"
    },
    "papermill": {
     "duration": 1.412304,
     "end_time": "2021-03-07T07:39:28.395218",
     "exception": false,
     "start_time": "2021-03-07T07:39:26.982914",
     "status": "completed"
    },
    "tags": []
   },
   "outputs": [
    {
     "data": {
      "text/html": [
       "<div>\n",
       "<style scoped>\n",
       "    .dataframe tbody tr th:only-of-type {\n",
       "        vertical-align: middle;\n",
       "    }\n",
       "\n",
       "    .dataframe tbody tr th {\n",
       "        vertical-align: top;\n",
       "    }\n",
       "\n",
       "    .dataframe thead th {\n",
       "        text-align: right;\n",
       "    }\n",
       "</style>\n",
       "<table border=\"1\" class=\"dataframe\">\n",
       "  <thead>\n",
       "    <tr style=\"text-align: right;\">\n",
       "      <th></th>\n",
       "      <th>text</th>\n",
       "      <th>label</th>\n",
       "      <th>number_of_words</th>\n",
       "    </tr>\n",
       "  </thead>\n",
       "  <tbody>\n",
       "    <tr>\n",
       "      <th>0</th>\n",
       "      <td>stuning even for the non-gamer: this sound tra...</td>\n",
       "      <td>1</td>\n",
       "      <td>80</td>\n",
       "    </tr>\n",
       "    <tr>\n",
       "      <th>1</th>\n",
       "      <td>the best soundtrack ever to anything.: i'm rea...</td>\n",
       "      <td>1</td>\n",
       "      <td>97</td>\n",
       "    </tr>\n",
       "    <tr>\n",
       "      <th>2</th>\n",
       "      <td>amazing!: this soundtrack is my favorite music...</td>\n",
       "      <td>1</td>\n",
       "      <td>129</td>\n",
       "    </tr>\n",
       "    <tr>\n",
       "      <th>3</th>\n",
       "      <td>excellent soundtrack: i truly like this soundt...</td>\n",
       "      <td>1</td>\n",
       "      <td>118</td>\n",
       "    </tr>\n",
       "    <tr>\n",
       "      <th>4</th>\n",
       "      <td>remember, pull your jaw off the floor after he...</td>\n",
       "      <td>1</td>\n",
       "      <td>87</td>\n",
       "    </tr>\n",
       "  </tbody>\n",
       "</table>\n",
       "</div>"
      ],
      "text/plain": [
       "                                                text  label  number_of_words\n",
       "0  stuning even for the non-gamer: this sound tra...      1               80\n",
       "1  the best soundtrack ever to anything.: i'm rea...      1               97\n",
       "2  amazing!: this soundtrack is my favorite music...      1              129\n",
       "3  excellent soundtrack: i truly like this soundt...      1              118\n",
       "4  remember, pull your jaw off the floor after he...      1               87"
      ]
     },
     "execution_count": 11,
     "metadata": {},
     "output_type": "execute_result"
    }
   ],
   "source": [
    "train['number_of_words'] = train['text'].str.lower().str.split().apply(len)\n",
    "train.head()"
   ]
  },
  {
   "cell_type": "code",
   "execution_count": 12,
   "metadata": {
    "execution": {
     "iopub.execute_input": "2021-03-07T07:39:28.497883Z",
     "iopub.status.busy": "2021-03-07T07:39:28.486923Z",
     "iopub.status.idle": "2021-03-07T07:39:28.736547Z",
     "shell.execute_reply": "2021-03-07T07:39:28.736969Z"
    },
    "papermill": {
     "duration": 0.317544,
     "end_time": "2021-03-07T07:39:28.737112",
     "exception": false,
     "start_time": "2021-03-07T07:39:28.419568",
     "status": "completed"
    },
    "tags": []
   },
   "outputs": [
    {
     "data": {
      "text/html": [
       "<div>\n",
       "<style scoped>\n",
       "    .dataframe tbody tr th:only-of-type {\n",
       "        vertical-align: middle;\n",
       "    }\n",
       "\n",
       "    .dataframe tbody tr th {\n",
       "        vertical-align: top;\n",
       "    }\n",
       "\n",
       "    .dataframe thead th {\n",
       "        text-align: right;\n",
       "    }\n",
       "</style>\n",
       "<table border=\"1\" class=\"dataframe\">\n",
       "  <thead>\n",
       "    <tr style=\"text-align: right;\">\n",
       "      <th></th>\n",
       "      <th>text</th>\n",
       "      <th>label</th>\n",
       "      <th>number_of_words</th>\n",
       "    </tr>\n",
       "  </thead>\n",
       "  <tbody>\n",
       "    <tr>\n",
       "      <th>0</th>\n",
       "      <td>great cd: my lovely pat has one of the great v...</td>\n",
       "      <td>1</td>\n",
       "      <td>106</td>\n",
       "    </tr>\n",
       "    <tr>\n",
       "      <th>1</th>\n",
       "      <td>one of the best game music soundtracks - for a...</td>\n",
       "      <td>1</td>\n",
       "      <td>148</td>\n",
       "    </tr>\n",
       "    <tr>\n",
       "      <th>2</th>\n",
       "      <td>batteries died within a year ...: i bought thi...</td>\n",
       "      <td>0</td>\n",
       "      <td>60</td>\n",
       "    </tr>\n",
       "    <tr>\n",
       "      <th>3</th>\n",
       "      <td>works fine, but maha energy is better: check o...</td>\n",
       "      <td>1</td>\n",
       "      <td>37</td>\n",
       "    </tr>\n",
       "    <tr>\n",
       "      <th>4</th>\n",
       "      <td>great for the non-audiophile: reviewed quite a...</td>\n",
       "      <td>1</td>\n",
       "      <td>69</td>\n",
       "    </tr>\n",
       "  </tbody>\n",
       "</table>\n",
       "</div>"
      ],
      "text/plain": [
       "                                                text  label  number_of_words\n",
       "0  great cd: my lovely pat has one of the great v...      1              106\n",
       "1  one of the best game music soundtracks - for a...      1              148\n",
       "2  batteries died within a year ...: i bought thi...      0               60\n",
       "3  works fine, but maha energy is better: check o...      1               37\n",
       "4  great for the non-audiophile: reviewed quite a...      1               69"
      ]
     },
     "execution_count": 12,
     "metadata": {},
     "output_type": "execute_result"
    }
   ],
   "source": [
    "test['number_of_words'] = test['text'].str.lower().str.split().apply(len)\n",
    "test.head()"
   ]
  },
  {
   "cell_type": "code",
   "execution_count": 13,
   "metadata": {
    "execution": {
     "iopub.execute_input": "2021-03-07T07:39:28.836162Z",
     "iopub.status.busy": "2021-03-07T07:39:28.835322Z",
     "iopub.status.idle": "2021-03-07T07:39:29.964955Z",
     "shell.execute_reply": "2021-03-07T07:39:29.964520Z"
    },
    "papermill": {
     "duration": 1.176575,
     "end_time": "2021-03-07T07:39:29.965074",
     "exception": false,
     "start_time": "2021-03-07T07:39:28.788499",
     "status": "completed"
    },
    "tags": []
   },
   "outputs": [
    {
     "data": {
      "text/plain": [
       "<AxesSubplot:xlabel='label', ylabel='count'>"
      ]
     },
     "execution_count": 13,
     "metadata": {},
     "output_type": "execute_result"
    },
    {
     "data": {
      "image/png": "[encoded data removed]",
      "text/plain": [
       "<Figure size 432x288 with 1 Axes>"
      ]
     },
     "metadata": {},
     "output_type": "display_data"
    }
   ],
   "source": [
    "import seaborn as sns\n",
    "sns.set(style='darkgrid')\n",
    "sns.countplot(x=\"label\", data = train)"
   ]
  },
  {
   "cell_type": "code",
   "execution_count": 14,
   "metadata": {
    "execution": {
     "iopub.execute_input": "2021-03-07T07:39:30.021458Z",
     "iopub.status.busy": "2021-03-07T07:39:30.020909Z",
     "iopub.status.idle": "2021-03-07T07:39:30.288265Z",
     "shell.execute_reply": "2021-03-07T07:39:30.288681Z"
    },
    "papermill": {
     "duration": 0.297955,
     "end_time": "2021-03-07T07:39:30.288825",
     "exception": false,
     "start_time": "2021-03-07T07:39:29.990870",
     "status": "completed"
    },
    "tags": []
   },
   "outputs": [
    {
     "data": {
      "text/plain": [
       "<AxesSubplot:ylabel='Frequency'>"
      ]
     },
     "execution_count": 14,
     "metadata": {},
     "output_type": "execute_result"
    },
    {
     "data": {
      "image/png": "[encoded data removed]",
      "text/plain": [
       "<Figure size 720x576 with 1 Axes>"
      ]
     },
     "metadata": {},
     "output_type": "display_data"
    }
   ],
   "source": [
    "train['number_of_words'].plot(bins=50, kind='hist',figsize = (10,8)) "
   ]
  },
  {
   "cell_type": "code",
   "execution_count": 15,
   "metadata": {
    "execution": {
     "iopub.execute_input": "2021-03-07T07:39:30.346740Z",
     "iopub.status.busy": "2021-03-07T07:39:30.346211Z",
     "iopub.status.idle": "2021-03-07T07:39:31.010116Z",
     "shell.execute_reply": "2021-03-07T07:39:31.009671Z"
    },
    "papermill": {
     "duration": 0.694193,
     "end_time": "2021-03-07T07:39:31.010277",
     "exception": false,
     "start_time": "2021-03-07T07:39:30.316084",
     "status": "completed"
    },
    "tags": []
   },
   "outputs": [],
   "source": [
    "import re\n",
    "import nltk\n"
   ]
  },
  {
   "cell_type": "code",
   "execution_count": 16,
   "metadata": {
    "execution": {
     "iopub.execute_input": "2021-03-07T07:39:31.078509Z",
     "iopub.status.busy": "2021-03-07T07:39:31.073992Z",
     "iopub.status.idle": "2021-03-07T07:39:31.218210Z",
     "shell.execute_reply": "2021-03-07T07:39:31.218656Z"
    },
    "papermill": {
     "duration": 0.180722,
     "end_time": "2021-03-07T07:39:31.218802",
     "exception": false,
     "start_time": "2021-03-07T07:39:31.038080",
     "status": "completed"
    },
    "tags": []
   },
   "outputs": [
    {
     "name": "stdout",
     "output_type": "stream",
     "text": [
      "[nltk_data] Downloading package stopwords to /usr/share/nltk_data...\n",
      "[nltk_data]   Package stopwords is already up-to-date!\n"
     ]
    }
   ],
   "source": [
    "def remove_url(text):\n",
    "     url=re.compile(r\"https?://\\S+|www\\.\\S+\")\n",
    "     return url.sub(r\" \",text)\n",
    "\n",
    "def remove_html(text):\n",
    "  cleanr = re.compile('<.*?>')\n",
    "  return cleanr.sub(r\" \",text)\n",
    "\n",
    "\n",
    "\n",
    "def remove_num(texts):\n",
    "   output = re.sub(r'\\d+', '', texts)\n",
    "   return output\n",
    "\n",
    "\n",
    "import string\n",
    "def remove_punc(text):\n",
    "   table=str.maketrans(' ',' ',string.punctuation)\n",
    "   return text.translate(table)\n",
    "\n",
    "\n",
    "\n",
    "nltk.download('stopwords')\n",
    "from nltk.corpus import stopwords\n",
    "stop=set(stopwords.words(\"english\"))\n",
    " \n",
    "def remove_stopword(text):\n",
    "   text=[word.lower() for word in text.split() if word.lower() not in stop]\n",
    "   return \" \".join(text)\n"
   ]
  },
  {
   "cell_type": "code",
   "execution_count": 17,
   "metadata": {
    "execution": {
     "iopub.execute_input": "2021-03-07T07:39:31.280627Z",
     "iopub.status.busy": "2021-03-07T07:39:31.279909Z",
     "iopub.status.idle": "2021-03-07T07:39:36.696554Z",
     "shell.execute_reply": "2021-03-07T07:39:36.695506Z"
    },
    "papermill": {
     "duration": 5.450467,
     "end_time": "2021-03-07T07:39:36.696694",
     "exception": false,
     "start_time": "2021-03-07T07:39:31.246227",
     "status": "completed"
    },
    "tags": []
   },
   "outputs": [],
   "source": [
    "train['text']=train.text.map(lambda x:remove_url(x))\n",
    "train['text']=train.text.map(lambda x:remove_html(x))\n",
    "train['text']=train.text.map(lambda x:remove_punc(x))\n",
    "train['text']=train['text'].map(remove_num)\n",
    "train['text']=train['text'].map(remove_stopword)"
   ]
  },
  {
   "cell_type": "code",
   "execution_count": 18,
   "metadata": {
    "execution": {
     "iopub.execute_input": "2021-03-07T07:39:36.778410Z",
     "iopub.status.busy": "2021-03-07T07:39:36.773149Z",
     "iopub.status.idle": "2021-03-07T07:39:37.864861Z",
     "shell.execute_reply": "2021-03-07T07:39:37.863802Z"
    },
    "papermill": {
     "duration": 1.140558,
     "end_time": "2021-03-07T07:39:37.865015",
     "exception": false,
     "start_time": "2021-03-07T07:39:36.724457",
     "status": "completed"
    },
    "tags": []
   },
   "outputs": [],
   "source": [
    "test['text']=test.text.map(lambda x:remove_url(x))\n",
    "test['text']=test.text.map(lambda x:remove_html(x))\n",
    "test['text']=test.text.map(lambda x:remove_punc(x))\n",
    "test['text']=test['text'].map(remove_num)\n",
    "test['text']=test['text'].map(remove_stopword)"
   ]
  },
  {
   "cell_type": "code",
   "execution_count": 19,
   "metadata": {
    "execution": {
     "iopub.execute_input": "2021-03-07T07:39:37.928993Z",
     "iopub.status.busy": "2021-03-07T07:39:37.928038Z",
     "iopub.status.idle": "2021-03-07T07:39:37.933131Z",
     "shell.execute_reply": "2021-03-07T07:39:37.932651Z"
    },
    "papermill": {
     "duration": 0.039701,
     "end_time": "2021-03-07T07:39:37.933262",
     "exception": false,
     "start_time": "2021-03-07T07:39:37.893561",
     "status": "completed"
    },
    "tags": []
   },
   "outputs": [
    {
     "data": {
      "text/html": [
       "<div>\n",
       "<style scoped>\n",
       "    .dataframe tbody tr th:only-of-type {\n",
       "        vertical-align: middle;\n",
       "    }\n",
       "\n",
       "    .dataframe tbody tr th {\n",
       "        vertical-align: top;\n",
       "    }\n",
       "\n",
       "    .dataframe thead th {\n",
       "        text-align: right;\n",
       "    }\n",
       "</style>\n",
       "<table border=\"1\" class=\"dataframe\">\n",
       "  <thead>\n",
       "    <tr style=\"text-align: right;\">\n",
       "      <th></th>\n",
       "      <th>text</th>\n",
       "      <th>label</th>\n",
       "      <th>number_of_words</th>\n",
       "    </tr>\n",
       "  </thead>\n",
       "  <tbody>\n",
       "    <tr>\n",
       "      <th>0</th>\n",
       "      <td>stuning even nongamer sound track beautiful pa...</td>\n",
       "      <td>1</td>\n",
       "      <td>80</td>\n",
       "    </tr>\n",
       "    <tr>\n",
       "      <th>1</th>\n",
       "      <td>best soundtrack ever anything im reading lot r...</td>\n",
       "      <td>1</td>\n",
       "      <td>97</td>\n",
       "    </tr>\n",
       "    <tr>\n",
       "      <th>2</th>\n",
       "      <td>amazing soundtrack favorite music time hands i...</td>\n",
       "      <td>1</td>\n",
       "      <td>129</td>\n",
       "    </tr>\n",
       "    <tr>\n",
       "      <th>3</th>\n",
       "      <td>excellent soundtrack truly like soundtrack enj...</td>\n",
       "      <td>1</td>\n",
       "      <td>118</td>\n",
       "    </tr>\n",
       "    <tr>\n",
       "      <th>4</th>\n",
       "      <td>remember pull jaw floor hearing youve played g...</td>\n",
       "      <td>1</td>\n",
       "      <td>87</td>\n",
       "    </tr>\n",
       "  </tbody>\n",
       "</table>\n",
       "</div>"
      ],
      "text/plain": [
       "                                                text  label  number_of_words\n",
       "0  stuning even nongamer sound track beautiful pa...      1               80\n",
       "1  best soundtrack ever anything im reading lot r...      1               97\n",
       "2  amazing soundtrack favorite music time hands i...      1              129\n",
       "3  excellent soundtrack truly like soundtrack enj...      1              118\n",
       "4  remember pull jaw floor hearing youve played g...      1               87"
      ]
     },
     "execution_count": 19,
     "metadata": {},
     "output_type": "execute_result"
    }
   ],
   "source": [
    "train.head()"
   ]
  },
  {
   "cell_type": "code",
   "execution_count": 20,
   "metadata": {
    "execution": {
     "iopub.execute_input": "2021-03-07T07:39:37.993812Z",
     "iopub.status.busy": "2021-03-07T07:39:37.993298Z",
     "iopub.status.idle": "2021-03-07T07:39:37.996637Z",
     "shell.execute_reply": "2021-03-07T07:39:37.997127Z"
    },
    "papermill": {
     "duration": 0.036276,
     "end_time": "2021-03-07T07:39:37.997262",
     "exception": false,
     "start_time": "2021-03-07T07:39:37.960986",
     "status": "completed"
    },
    "tags": []
   },
   "outputs": [],
   "source": [
    "import nltk\n",
    "\n",
    "def Stemming(text):\n",
    "   stem=[]\n",
    "   from nltk.corpus import stopwords\n",
    "   from nltk.stem import SnowballStemmer\n",
    "  #is based on The Porter Stemming Algorithm\n",
    "   stopword = stopwords.words('english')\n",
    "   snowball_stemmer = SnowballStemmer('english')\n",
    "   word_tokens = nltk.word_tokenize(text)\n",
    "   stemmed_word = [snowball_stemmer.stem(word) for word in word_tokens]\n",
    "   stem=' '.join(stemmed_word)\n",
    "   return stem"
   ]
  },
  {
   "cell_type": "code",
   "execution_count": 21,
   "metadata": {
    "execution": {
     "iopub.execute_input": "2021-03-07T07:39:38.058901Z",
     "iopub.status.busy": "2021-03-07T07:39:38.058352Z",
     "iopub.status.idle": "2021-03-07T07:42:12.041347Z",
     "shell.execute_reply": "2021-03-07T07:42:12.041769Z"
    },
    "papermill": {
     "duration": 154.017035,
     "end_time": "2021-03-07T07:42:12.041949",
     "exception": false,
     "start_time": "2021-03-07T07:39:38.024914",
     "status": "completed"
    },
    "tags": []
   },
   "outputs": [],
   "source": [
    "\n",
    "    train['text']=train['text'].map(Stemming)\n",
    "    test['text']=test['text'].map(Stemming)"
   ]
  },
  {
   "cell_type": "code",
   "execution_count": 22,
   "metadata": {
    "execution": {
     "iopub.execute_input": "2021-03-07T07:42:12.107907Z",
     "iopub.status.busy": "2021-03-07T07:42:12.107021Z",
     "iopub.status.idle": "2021-03-07T07:42:12.110351Z",
     "shell.execute_reply": "2021-03-07T07:42:12.110715Z"
    },
    "papermill": {
     "duration": 0.03987,
     "end_time": "2021-03-07T07:42:12.110851",
     "exception": false,
     "start_time": "2021-03-07T07:42:12.070981",
     "status": "completed"
    },
    "tags": []
   },
   "outputs": [
    {
     "data": {
      "text/html": [
       "<div>\n",
       "<style scoped>\n",
       "    .dataframe tbody tr th:only-of-type {\n",
       "        vertical-align: middle;\n",
       "    }\n",
       "\n",
       "    .dataframe tbody tr th {\n",
       "        vertical-align: top;\n",
       "    }\n",
       "\n",
       "    .dataframe thead th {\n",
       "        text-align: right;\n",
       "    }\n",
       "</style>\n",
       "<table border=\"1\" class=\"dataframe\">\n",
       "  <thead>\n",
       "    <tr style=\"text-align: right;\">\n",
       "      <th></th>\n",
       "      <th>text</th>\n",
       "      <th>label</th>\n",
       "      <th>number_of_words</th>\n",
       "    </tr>\n",
       "  </thead>\n",
       "  <tbody>\n",
       "    <tr>\n",
       "      <th>0</th>\n",
       "      <td>stune even nongam sound track beauti paint sen...</td>\n",
       "      <td>1</td>\n",
       "      <td>80</td>\n",
       "    </tr>\n",
       "    <tr>\n",
       "      <th>1</th>\n",
       "      <td>best soundtrack ever anyth im read lot review ...</td>\n",
       "      <td>1</td>\n",
       "      <td>97</td>\n",
       "    </tr>\n",
       "    <tr>\n",
       "      <th>2</th>\n",
       "      <td>amaz soundtrack favorit music time hand intens...</td>\n",
       "      <td>1</td>\n",
       "      <td>129</td>\n",
       "    </tr>\n",
       "    <tr>\n",
       "      <th>3</th>\n",
       "      <td>excel soundtrack truli like soundtrack enjoy v...</td>\n",
       "      <td>1</td>\n",
       "      <td>118</td>\n",
       "    </tr>\n",
       "    <tr>\n",
       "      <th>4</th>\n",
       "      <td>rememb pull jaw floor hear youv play game know...</td>\n",
       "      <td>1</td>\n",
       "      <td>87</td>\n",
       "    </tr>\n",
       "  </tbody>\n",
       "</table>\n",
       "</div>"
      ],
      "text/plain": [
       "                                                text  label  number_of_words\n",
       "0  stune even nongam sound track beauti paint sen...      1               80\n",
       "1  best soundtrack ever anyth im read lot review ...      1               97\n",
       "2  amaz soundtrack favorit music time hand intens...      1              129\n",
       "3  excel soundtrack truli like soundtrack enjoy v...      1              118\n",
       "4  rememb pull jaw floor hear youv play game know...      1               87"
      ]
     },
     "execution_count": 22,
     "metadata": {},
     "output_type": "execute_result"
    }
   ],
   "source": [
    "train.head()"
   ]
  },
  {
   "cell_type": "code",
   "execution_count": 23,
   "metadata": {
    "execution": {
     "iopub.execute_input": "2021-03-07T07:42:12.172958Z",
     "iopub.status.busy": "2021-03-07T07:42:12.172364Z",
     "iopub.status.idle": "2021-03-07T07:42:17.168934Z",
     "shell.execute_reply": "2021-03-07T07:42:17.168151Z"
    },
    "papermill": {
     "duration": 5.029533,
     "end_time": "2021-03-07T07:42:17.169073",
     "exception": false,
     "start_time": "2021-03-07T07:42:12.139540",
     "status": "completed"
    },
    "tags": []
   },
   "outputs": [],
   "source": [
    "max_length=100\n",
    "vocab_size=12000\n",
    "embedding_dim=64\n",
    "trunc_type=\"post\"\n",
    "oov_tok=\"<OOV>\"\n",
    "padding_type=\"post\"\n",
    "from tensorflow.keras.preprocessing.text import Tokenizer\n",
    "from tensorflow.keras.preprocessing.sequence import pad_sequences\n",
    "\n"
   ]
  },
  {
   "cell_type": "code",
   "execution_count": 24,
   "metadata": {
    "execution": {
     "iopub.execute_input": "2021-03-07T07:42:17.276700Z",
     "iopub.status.busy": "2021-03-07T07:42:17.266461Z",
     "iopub.status.idle": "2021-03-07T07:42:20.924610Z",
     "shell.execute_reply": "2021-03-07T07:42:20.924086Z"
    },
    "papermill": {
     "duration": 3.725161,
     "end_time": "2021-03-07T07:42:20.924736",
     "exception": false,
     "start_time": "2021-03-07T07:42:17.199575",
     "status": "completed"
    },
    "tags": []
   },
   "outputs": [],
   "source": [
    "tokenizer = Tokenizer(num_words=vocab_size,oov_token=oov_tok)\n",
    "tokenizer.fit_on_texts(train['text'])"
   ]
  },
  {
   "cell_type": "code",
   "execution_count": 25,
   "metadata": {
    "execution": {
     "iopub.execute_input": "2021-03-07T07:42:20.987915Z",
     "iopub.status.busy": "2021-03-07T07:42:20.987078Z",
     "iopub.status.idle": "2021-03-07T07:42:20.990895Z",
     "shell.execute_reply": "2021-03-07T07:42:20.990481Z"
    },
    "papermill": {
     "duration": 0.037014,
     "end_time": "2021-03-07T07:42:20.991015",
     "exception": false,
     "start_time": "2021-03-07T07:42:20.954001",
     "status": "completed"
    },
    "tags": []
   },
   "outputs": [
    {
     "data": {
      "text/plain": [
       "<keras_preprocessing.text.Tokenizer at 0x7f139a58dcd0>"
      ]
     },
     "execution_count": 25,
     "metadata": {},
     "output_type": "execute_result"
    }
   ],
   "source": [
    "tokenizer"
   ]
  },
  {
   "cell_type": "code",
   "execution_count": 26,
   "metadata": {
    "execution": {
     "iopub.execute_input": "2021-03-07T07:42:21.054615Z",
     "iopub.status.busy": "2021-03-07T07:42:21.053933Z",
     "iopub.status.idle": "2021-03-07T07:42:21.056866Z",
     "shell.execute_reply": "2021-03-07T07:42:21.056460Z"
    },
    "papermill": {
     "duration": 0.036213,
     "end_time": "2021-03-07T07:42:21.056979",
     "exception": false,
     "start_time": "2021-03-07T07:42:21.020766",
     "status": "completed"
    },
    "tags": []
   },
   "outputs": [],
   "source": [
    "word_index = tokenizer.word_index"
   ]
  },
  {
   "cell_type": "code",
   "execution_count": 27,
   "metadata": {
    "execution": {
     "iopub.execute_input": "2021-03-07T07:42:21.149086Z",
     "iopub.status.busy": "2021-03-07T07:42:21.143892Z",
     "iopub.status.idle": "2021-03-07T07:42:26.882665Z",
     "shell.execute_reply": "2021-03-07T07:42:26.882116Z"
    },
    "papermill": {
     "duration": 5.796164,
     "end_time": "2021-03-07T07:42:26.882799",
     "exception": false,
     "start_time": "2021-03-07T07:42:21.086635",
     "status": "completed"
    },
    "tags": []
   },
   "outputs": [],
   "source": [
    "training_sequences = tokenizer.texts_to_sequences(train['text'])\n",
    "training_padded = pad_sequences(training_sequences, maxlen=max_length, padding=padding_type, truncating=trunc_type)\n",
    "testing_sequences = tokenizer.texts_to_sequences(test['text'])\n",
    "testing_padded = pad_sequences(testing_sequences, maxlen=max_length, padding=padding_type, truncating=trunc_type)\n"
   ]
  },
  {
   "cell_type": "code",
   "execution_count": 28,
   "metadata": {
    "execution": {
     "iopub.execute_input": "2021-03-07T07:42:26.951166Z",
     "iopub.status.busy": "2021-03-07T07:42:26.950560Z",
     "iopub.status.idle": "2021-03-07T07:42:26.953884Z",
     "shell.execute_reply": "2021-03-07T07:42:26.954288Z"
    },
    "papermill": {
     "duration": 0.040944,
     "end_time": "2021-03-07T07:42:26.954412",
     "exception": false,
     "start_time": "2021-03-07T07:42:26.913468",
     "status": "completed"
    },
    "tags": []
   },
   "outputs": [
    {
     "data": {
      "text/plain": [
       "array([  25,  805,   51,  181,   52,    6,   86,   49,   45,   25,  113,\n",
       "        805,  483,  309,  101,   49, 2068,  161,    1,    1,    1, 1069,\n",
       "        735,   43, 1571,   52,  111,   29,  173,  315, 1829,    1,  132,\n",
       "       2734,  160, 7108,  112,   45,   31,   23,   37,   21,   75,    3,\n",
       "         90,   11,  100,   93, 2076,    0,    0,    0,    0,    0,    0,\n",
       "          0,    0,    0,    0,    0,    0,    0,    0,    0,    0,    0,\n",
       "          0,    0,    0,    0,    0,    0,    0,    0,    0,    0,    0,\n",
       "          0,    0,    0,    0,    0,    0,    0,    0,    0,    0,    0,\n",
       "          0,    0,    0,    0,    0,    0,    0,    0,    0,    0,    0,\n",
       "          0], dtype=int32)"
      ]
     },
     "execution_count": 28,
     "metadata": {},
     "output_type": "execute_result"
    }
   ],
   "source": [
    "training_padded[1]"
   ]
  },
  {
   "cell_type": "code",
   "execution_count": 29,
   "metadata": {
    "execution": {
     "iopub.execute_input": "2021-03-07T07:42:27.018003Z",
     "iopub.status.busy": "2021-03-07T07:42:27.017481Z",
     "iopub.status.idle": "2021-03-07T07:42:27.022278Z",
     "shell.execute_reply": "2021-03-07T07:42:27.021814Z"
    },
    "papermill": {
     "duration": 0.038254,
     "end_time": "2021-03-07T07:42:27.022465",
     "exception": false,
     "start_time": "2021-03-07T07:42:26.984211",
     "status": "completed"
    },
    "tags": []
   },
   "outputs": [
    {
     "name": "stdout",
     "output_type": "stream",
     "text": [
      "[25, 805, 51, 181, 52, 6, 86, 49, 45, 25, 113, 805, 483, 309, 101, 49, 2068, 161, 1, 1, 1, 1069, 735, 43, 1571, 52, 111, 29, 173, 315, 1829, 1, 132, 2734, 160, 7108, 112, 45, 31, 23, 37, 21, 75, 3, 90, 11, 100, 93, 2076]\n"
     ]
    }
   ],
   "source": [
    "print(training_sequences[1])"
   ]
  },
  {
   "cell_type": "code",
   "execution_count": 30,
   "metadata": {
    "execution": {
     "iopub.execute_input": "2021-03-07T07:42:27.089504Z",
     "iopub.status.busy": "2021-03-07T07:42:27.088921Z",
     "iopub.status.idle": "2021-03-07T07:42:27.144812Z",
     "shell.execute_reply": "2021-03-07T07:42:27.144312Z"
    },
    "papermill": {
     "duration": 0.092025,
     "end_time": "2021-03-07T07:42:27.144936",
     "exception": false,
     "start_time": "2021-03-07T07:42:27.052911",
     "status": "completed"
    },
    "tags": []
   },
   "outputs": [],
   "source": [
    "from keras.models import Sequential\n",
    "from keras.layers import Dense, Dropout, Activation\n",
    "from keras.layers.embeddings import Embedding\n",
    "from keras.layers.recurrent import LSTM,GRU\n",
    "from keras.preprocessing import sequence\n",
    "from sklearn.metrics import f1_score, roc_auc_score, accuracy_score    \n",
    "from tensorflow.python.keras import models, layers, optimizers   \n",
    "from keras.layers import Conv1D, MaxPooling1D, GlobalMaxPooling1D, SpatialDropout1D\n",
    "from keras.layers.wrappers import Bidirectional\n",
    "from keras.optimizers import Adam\n",
    "from keras.callbacks import ModelCheckpoint\n",
    "from keras.callbacks import EarlyStopping"
   ]
  },
  {
   "cell_type": "code",
   "execution_count": 31,
   "metadata": {
    "execution": {
     "iopub.execute_input": "2021-03-07T07:42:27.211799Z",
     "iopub.status.busy": "2021-03-07T07:42:27.211308Z",
     "iopub.status.idle": "2021-03-07T07:42:30.439880Z",
     "shell.execute_reply": "2021-03-07T07:42:30.438588Z"
    },
    "papermill": {
     "duration": 3.263982,
     "end_time": "2021-03-07T07:42:30.440008",
     "exception": false,
     "start_time": "2021-03-07T07:42:27.176026",
     "status": "completed"
    },
    "tags": []
   },
   "outputs": [
    {
     "name": "stdout",
     "output_type": "stream",
     "text": [
      "Model: \"sequential\"\n",
      "_________________________________________________________________\n",
      "Layer (type)                 Output Shape              Param #   \n",
      "=================================================================\n",
      "embedding (Embedding)        (None, 100, 64)           768000    \n",
      "_________________________________________________________________\n",
      "spatial_dropout1d (SpatialDr (None, 100, 64)           0         \n",
      "_________________________________________________________________\n",
      "bidirectional (Bidirectional (None, 512)               657408    \n",
      "_________________________________________________________________\n",
      "dense (Dense)                (None, 1)                 513       \n",
      "_________________________________________________________________\n",
      "activation (Activation)      (None, 1)                 0         \n",
      "=================================================================\n",
      "Total params: 1,425,921\n",
      "Trainable params: 1,425,921\n",
      "Non-trainable params: 0\n",
      "_________________________________________________________________\n"
     ]
    }
   ],
   "source": [
    "model = Sequential()\n",
    "model.add(Embedding(vocab_size, embedding_dim, input_length=max_length))\n",
    "model.add(SpatialDropout1D(0.2))\n",
    "model.add(Bidirectional(LSTM(256, dropout=0.2)))\n",
    "model.add(Dense(1))\n",
    "model.add(Activation('sigmoid'))\n",
    "model.summary()"
   ]
  },
  {
   "cell_type": "code",
   "execution_count": 32,
   "metadata": {
    "execution": {
     "iopub.execute_input": "2021-03-07T07:42:30.507099Z",
     "iopub.status.busy": "2021-03-07T07:42:30.505963Z",
     "iopub.status.idle": "2021-03-07T07:42:30.509006Z",
     "shell.execute_reply": "2021-03-07T07:42:30.508588Z"
    },
    "papermill": {
     "duration": 0.037579,
     "end_time": "2021-03-07T07:42:30.509106",
     "exception": false,
     "start_time": "2021-03-07T07:42:30.471527",
     "status": "completed"
    },
    "tags": []
   },
   "outputs": [],
   "source": [
    "adam=Adam(lr=0.0001)"
   ]
  },
  {
   "cell_type": "code",
   "execution_count": 33,
   "metadata": {
    "execution": {
     "iopub.execute_input": "2021-03-07T07:42:30.580418Z",
     "iopub.status.busy": "2021-03-07T07:42:30.579626Z",
     "iopub.status.idle": "2021-03-07T07:42:30.585283Z",
     "shell.execute_reply": "2021-03-07T07:42:30.585729Z"
    },
    "papermill": {
     "duration": 0.046104,
     "end_time": "2021-03-07T07:42:30.585846",
     "exception": false,
     "start_time": "2021-03-07T07:42:30.539742",
     "status": "completed"
    },
    "tags": []
   },
   "outputs": [],
   "source": [
    "model.compile(loss='binary_crossentropy',optimizer=adam,metrics=['accuracy'] )"
   ]
  },
  {
   "cell_type": "code",
   "execution_count": 34,
   "metadata": {
    "execution": {
     "iopub.execute_input": "2021-03-07T07:42:30.654849Z",
     "iopub.status.busy": "2021-03-07T07:42:30.654367Z",
     "iopub.status.idle": "2021-03-07T07:42:30.659119Z",
     "shell.execute_reply": "2021-03-07T07:42:30.659508Z"
    },
    "papermill": {
     "duration": 0.043226,
     "end_time": "2021-03-07T07:42:30.659628",
     "exception": false,
     "start_time": "2021-03-07T07:42:30.616402",
     "status": "completed"
    },
    "tags": []
   },
   "outputs": [
    {
     "data": {
      "text/html": [
       "<div>\n",
       "<style scoped>\n",
       "    .dataframe tbody tr th:only-of-type {\n",
       "        vertical-align: middle;\n",
       "    }\n",
       "\n",
       "    .dataframe tbody tr th {\n",
       "        vertical-align: top;\n",
       "    }\n",
       "\n",
       "    .dataframe thead th {\n",
       "        text-align: right;\n",
       "    }\n",
       "</style>\n",
       "<table border=\"1\" class=\"dataframe\">\n",
       "  <thead>\n",
       "    <tr style=\"text-align: right;\">\n",
       "      <th></th>\n",
       "      <th>text</th>\n",
       "      <th>label</th>\n",
       "      <th>number_of_words</th>\n",
       "    </tr>\n",
       "  </thead>\n",
       "  <tbody>\n",
       "    <tr>\n",
       "      <th>0</th>\n",
       "      <td>stune even nongam sound track beauti paint sen...</td>\n",
       "      <td>1</td>\n",
       "      <td>80</td>\n",
       "    </tr>\n",
       "    <tr>\n",
       "      <th>1</th>\n",
       "      <td>best soundtrack ever anyth im read lot review ...</td>\n",
       "      <td>1</td>\n",
       "      <td>97</td>\n",
       "    </tr>\n",
       "    <tr>\n",
       "      <th>2</th>\n",
       "      <td>amaz soundtrack favorit music time hand intens...</td>\n",
       "      <td>1</td>\n",
       "      <td>129</td>\n",
       "    </tr>\n",
       "    <tr>\n",
       "      <th>3</th>\n",
       "      <td>excel soundtrack truli like soundtrack enjoy v...</td>\n",
       "      <td>1</td>\n",
       "      <td>118</td>\n",
       "    </tr>\n",
       "    <tr>\n",
       "      <th>4</th>\n",
       "      <td>rememb pull jaw floor hear youv play game know...</td>\n",
       "      <td>1</td>\n",
       "      <td>87</td>\n",
       "    </tr>\n",
       "  </tbody>\n",
       "</table>\n",
       "</div>"
      ],
      "text/plain": [
       "                                                text  label  number_of_words\n",
       "0  stune even nongam sound track beauti paint sen...      1               80\n",
       "1  best soundtrack ever anyth im read lot review ...      1               97\n",
       "2  amaz soundtrack favorit music time hand intens...      1              129\n",
       "3  excel soundtrack truli like soundtrack enjoy v...      1              118\n",
       "4  rememb pull jaw floor hear youv play game know...      1               87"
      ]
     },
     "execution_count": 34,
     "metadata": {},
     "output_type": "execute_result"
    }
   ],
   "source": [
    "train.head()"
   ]
  },
  {
   "cell_type": "code",
   "execution_count": 35,
   "metadata": {
    "execution": {
     "iopub.execute_input": "2021-03-07T07:42:30.727422Z",
     "iopub.status.busy": "2021-03-07T07:42:30.726918Z",
     "iopub.status.idle": "2021-03-07T07:46:19.390069Z",
     "shell.execute_reply": "2021-03-07T07:46:19.389409Z"
    },
    "papermill": {
     "duration": 228.699428,
     "end_time": "2021-03-07T07:46:19.390273",
     "exception": false,
     "start_time": "2021-03-07T07:42:30.690845",
     "status": "completed"
    },
    "tags": []
   },
   "outputs": [
    {
     "name": "stdout",
     "output_type": "stream",
     "text": [
      "Epoch 1/15\n",
      "391/391 [==============================] - 25s 49ms/step - loss: 0.6209 - accuracy: 0.6219 - val_loss: 0.3666 - val_accuracy: 0.8471\n",
      "Epoch 2/15\n",
      "391/391 [==============================] - 18s 47ms/step - loss: 0.3526 - accuracy: 0.8510 - val_loss: 0.3262 - val_accuracy: 0.8633\n",
      "Epoch 3/15\n",
      "391/391 [==============================] - 19s 48ms/step - loss: 0.3044 - accuracy: 0.8761 - val_loss: 0.3087 - val_accuracy: 0.8707\n",
      "Epoch 4/15\n",
      "391/391 [==============================] - 18s 47ms/step - loss: 0.2810 - accuracy: 0.8856 - val_loss: 0.2960 - val_accuracy: 0.8759\n",
      "Epoch 5/15\n",
      "391/391 [==============================] - 19s 48ms/step - loss: 0.2589 - accuracy: 0.8954 - val_loss: 0.2881 - val_accuracy: 0.8784\n",
      "Epoch 6/15\n",
      "391/391 [==============================] - 18s 47ms/step - loss: 0.2461 - accuracy: 0.9005 - val_loss: 0.2840 - val_accuracy: 0.8795\n",
      "Epoch 7/15\n",
      "391/391 [==============================] - 19s 47ms/step - loss: 0.2360 - accuracy: 0.9048 - val_loss: 0.2815 - val_accuracy: 0.8831\n",
      "Epoch 8/15\n",
      "391/391 [==============================] - 19s 48ms/step - loss: 0.2305 - accuracy: 0.9101 - val_loss: 0.2844 - val_accuracy: 0.8827\n",
      "Epoch 9/15\n",
      "391/391 [==============================] - 19s 48ms/step - loss: 0.2239 - accuracy: 0.9120 - val_loss: 0.2858 - val_accuracy: 0.8832\n",
      "Epoch 10/15\n",
      "391/391 [==============================] - 18s 47ms/step - loss: 0.2184 - accuracy: 0.9138 - val_loss: 0.2847 - val_accuracy: 0.8841\n",
      "Epoch 11/15\n",
      "391/391 [==============================] - 18s 47ms/step - loss: 0.2148 - accuracy: 0.9169 - val_loss: 0.2857 - val_accuracy: 0.8832\n",
      "Epoch 12/15\n",
      "391/391 [==============================] - 19s 48ms/step - loss: 0.2094 - accuracy: 0.9183 - val_loss: 0.2854 - val_accuracy: 0.8840\n"
     ]
    }
   ],
   "source": [
    "history=model.fit(training_padded,train['label'], epochs=15, batch_size=256,verbose = 1,callbacks = \n",
    "                  [EarlyStopping(monitor='val_accuracy', patience=2)],\n",
    "                  validation_data=(testing_padded,test['label']))"
   ]
  },
  {
   "cell_type": "code",
   "execution_count": 36,
   "metadata": {
    "execution": {
     "iopub.execute_input": "2021-03-07T07:46:20.760536Z",
     "iopub.status.busy": "2021-03-07T07:46:20.759657Z",
     "iopub.status.idle": "2021-03-07T07:46:21.153932Z",
     "shell.execute_reply": "2021-03-07T07:46:21.154403Z"
    },
    "papermill": {
     "duration": 1.080702,
     "end_time": "2021-03-07T07:46:21.154555",
     "exception": false,
     "start_time": "2021-03-07T07:46:20.073853",
     "status": "completed"
    },
    "tags": []
   },
   "outputs": [
    {
     "data": {
      "image/png": "[encoded data removed]",
      "text/plain": [
       "<Figure size 432x288 with 1 Axes>"
      ]
     },
     "metadata": {},
     "output_type": "display_data"
    },
    {
     "data": {
      "image/png": "[encoded data removed]",
      "text/plain": [
       "<Figure size 432x288 with 1 Axes>"
      ]
     },
     "metadata": {},
     "output_type": "display_data"
    }
   ],
   "source": [
    "import matplotlib.pyplot as plt\n",
    "\n",
    "\n",
    "def plot_graphs(history, string):\n",
    "  plt.plot(history.history[string])\n",
    "  plt.plot(history.history['val_'+string])\n",
    "  plt.xlabel(\"Epochs\")\n",
    "  plt.ylabel(string)\n",
    "  plt.legend([string, 'val_'+string])\n",
    "  plt.show()\n",
    "  \n",
    "plot_graphs(history, \"accuracy\")\n",
    "plot_graphs(history, \"loss\")"
   ]
  },
  {
   "cell_type": "code",
   "execution_count": 37,
   "metadata": {
    "execution": {
     "iopub.execute_input": "2021-03-07T07:46:22.554660Z",
     "iopub.status.busy": "2021-03-07T07:46:22.552897Z",
     "iopub.status.idle": "2021-03-07T07:46:22.555247Z",
     "shell.execute_reply": "2021-03-07T07:46:22.555807Z"
    },
    "papermill": {
     "duration": 0.685109,
     "end_time": "2021-03-07T07:46:22.555963",
     "exception": false,
     "start_time": "2021-03-07T07:46:21.870854",
     "status": "completed"
    },
    "tags": []
   },
   "outputs": [],
   "source": [
    "def Review(sentence):\n",
    "   sequences = tokenizer.texts_to_sequences(sentence)\n",
    "   padded = pad_sequences(sequences, maxlen=max_length, padding=padding_type, truncating=trunc_type)\n",
    "\n",
    "   prob=model.predict(padded)\n",
    "   if prob>=0.8:\n",
    "     print(5)\n",
    "   elif prob>=0.6:\n",
    "     print(4)\n",
    "   elif prob>=0.4:\n",
    "     print(3) \n",
    "   elif prob>=0.2:\n",
    "     print(2)   \n",
    "   else:\n",
    "       print(1)"
   ]
  },
  {
   "cell_type": "code",
   "execution_count": 38,
   "metadata": {
    "execution": {
     "iopub.execute_input": "2021-03-07T07:46:23.914658Z",
     "iopub.status.busy": "2021-03-07T07:46:23.913768Z",
     "iopub.status.idle": "2021-03-07T07:46:24.539659Z",
     "shell.execute_reply": "2021-03-07T07:46:24.538903Z"
    },
    "papermill": {
     "duration": 1.303309,
     "end_time": "2021-03-07T07:46:24.539826",
     "exception": false,
     "start_time": "2021-03-07T07:46:23.236517",
     "status": "completed"
    },
    "tags": []
   },
   "outputs": [
    {
     "name": "stdout",
     "output_type": "stream",
     "text": [
      "1\n"
     ]
    }
   ],
   "source": [
    "sentence=['this is worst thing donot buy it']\n",
    "Review(sentence)"
   ]
  },
  {
   "cell_type": "code",
   "execution_count": 39,
   "metadata": {
    "execution": {
     "iopub.execute_input": "2021-03-07T07:46:25.870683Z",
     "iopub.status.busy": "2021-03-07T07:46:25.869803Z",
     "iopub.status.idle": "2021-03-07T07:46:25.913715Z",
     "shell.execute_reply": "2021-03-07T07:46:25.913281Z"
    },
    "papermill": {
     "duration": 0.716569,
     "end_time": "2021-03-07T07:46:25.913839",
     "exception": false,
     "start_time": "2021-03-07T07:46:25.197270",
     "status": "completed"
    },
    "tags": []
   },
   "outputs": [
    {
     "name": "stdout",
     "output_type": "stream",
     "text": [
      "4\n"
     ]
    }
   ],
   "source": [
    "sentence=['Hurrey!! India won the match']\n",
    "Review(sentence)"
   ]
  },
  {
   "cell_type": "code",
   "execution_count": 40,
   "metadata": {
    "execution": {
     "iopub.execute_input": "2021-03-07T07:46:27.517131Z",
     "iopub.status.busy": "2021-03-07T07:46:27.516335Z",
     "iopub.status.idle": "2021-03-07T07:46:27.556334Z",
     "shell.execute_reply": "2021-03-07T07:46:27.555704Z"
    },
    "papermill": {
     "duration": 0.971267,
     "end_time": "2021-03-07T07:46:27.556493",
     "exception": false,
     "start_time": "2021-03-07T07:46:26.585226",
     "status": "completed"
    },
    "tags": []
   },
   "outputs": [
    {
     "name": "stdout",
     "output_type": "stream",
     "text": [
      "1\n"
     ]
    }
   ],
   "source": [
    "sentence=['sad, i lost my watch']\n",
    "Review(sentence)"
   ]
  },
  {
   "cell_type": "code",
   "execution_count": 41,
   "metadata": {
    "execution": {
     "iopub.execute_input": "2021-03-07T07:46:28.880491Z",
     "iopub.status.busy": "2021-03-07T07:46:28.879646Z",
     "iopub.status.idle": "2021-03-07T07:46:32.935881Z",
     "shell.execute_reply": "2021-03-07T07:46:32.935089Z"
    },
    "papermill": {
     "duration": 4.713757,
     "end_time": "2021-03-07T07:46:32.936013",
     "exception": false,
     "start_time": "2021-03-07T07:46:28.222256",
     "status": "completed"
    },
    "tags": []
   },
   "outputs": [],
   "source": [
    "# Predicting the Test set results\n",
    "y_pred = model.predict(testing_padded)\n",
    "y_pred = (y_pred > 0.5)\n",
    "X_test=testing_padded\n",
    "y_test=test['label']"
   ]
  },
  {
   "cell_type": "code",
   "execution_count": 42,
   "metadata": {
    "execution": {
     "iopub.execute_input": "2021-03-07T07:46:34.284293Z",
     "iopub.status.busy": "2021-03-07T07:46:34.282532Z",
     "iopub.status.idle": "2021-03-07T07:46:34.284895Z",
     "shell.execute_reply": "2021-03-07T07:46:34.285298Z"
    },
    "papermill": {
     "duration": 0.692632,
     "end_time": "2021-03-07T07:46:34.285435",
     "exception": false,
     "start_time": "2021-03-07T07:46:33.592803",
     "status": "completed"
    },
    "tags": []
   },
   "outputs": [],
   "source": [
    "from sklearn.metrics import accuracy_score,precision_score,recall_score,f1_score,roc_auc_score,confusion_matrix"
   ]
  },
  {
   "cell_type": "code",
   "execution_count": 43,
   "metadata": {
    "execution": {
     "iopub.execute_input": "2021-03-07T07:46:35.599998Z",
     "iopub.status.busy": "2021-03-07T07:46:35.599133Z",
     "iopub.status.idle": "2021-03-07T07:46:35.706571Z",
     "shell.execute_reply": "2021-03-07T07:46:35.705896Z"
    },
    "papermill": {
     "duration": 0.767699,
     "end_time": "2021-03-07T07:46:35.706733",
     "exception": false,
     "start_time": "2021-03-07T07:46:34.939034",
     "status": "completed"
    },
    "tags": []
   },
   "outputs": [
    {
     "name": "stdout",
     "output_type": "stream",
     "text": [
      "Accuracy: 0.884000\n",
      "Precision: 0.882906\n",
      "Recall: 0.891032\n",
      "F1 score: 0.886951\n",
      "ROC AUC: 0.883846\n",
      "[[8579 1207]\n",
      " [1113 9101]]\n"
     ]
    }
   ],
   "source": [
    "accuracy = accuracy_score(y_test, y_pred)\n",
    "print('Accuracy: %f' % accuracy)\n",
    "\n",
    "precision = precision_score(y_test, y_pred)\n",
    "print('Precision: %f' % precision)\n",
    "\n",
    "recall = recall_score(y_test, y_pred)\n",
    "print('Recall: %f' % recall)\n",
    "\n",
    "f1 = f1_score(y_test, y_pred)\n",
    "print('F1 score: %f' % f1)\n",
    " \n",
    "# ROC AUC\n",
    "auc = roc_auc_score(y_test, y_pred)\n",
    "print('ROC AUC: %f' % auc)\n",
    "# confusion matrix\n",
    "matrix = confusion_matrix(y_test, y_pred)\n",
    "print(matrix)"
   ]
  },
  {
   "cell_type": "code",
   "execution_count": 44,
   "metadata": {
    "execution": {
     "iopub.execute_input": "2021-03-07T07:46:37.024232Z",
     "iopub.status.busy": "2021-03-07T07:46:37.023420Z",
     "iopub.status.idle": "2021-03-07T07:46:37.060129Z",
     "shell.execute_reply": "2021-03-07T07:46:37.059563Z"
    },
    "papermill": {
     "duration": 0.697333,
     "end_time": "2021-03-07T07:46:37.060299",
     "exception": false,
     "start_time": "2021-03-07T07:46:36.362966",
     "status": "completed"
    },
    "tags": []
   },
   "outputs": [
    {
     "name": "stdout",
     "output_type": "stream",
     "text": [
      "              precision    recall  f1-score   support\n",
      "\n",
      "           0       0.89      0.88      0.88      9786\n",
      "           1       0.88      0.89      0.89     10214\n",
      "\n",
      "    accuracy                           0.88     20000\n",
      "   macro avg       0.88      0.88      0.88     20000\n",
      "weighted avg       0.88      0.88      0.88     20000\n",
      "\n"
     ]
    }
   ],
   "source": [
    "#Report\n",
    "from sklearn.metrics import classification_report\n",
    "print(classification_report(y_test, y_pred))"
   ]
  },
  {
   "cell_type": "code",
   "execution_count": 45,
   "metadata": {
    "execution": {
     "iopub.execute_input": "2021-03-07T07:46:38.660981Z",
     "iopub.status.busy": "2021-03-07T07:46:38.659239Z",
     "iopub.status.idle": "2021-03-07T07:46:38.881997Z",
     "shell.execute_reply": "2021-03-07T07:46:38.881041Z"
    },
    "papermill": {
     "duration": 1.107938,
     "end_time": "2021-03-07T07:46:38.882135",
     "exception": false,
     "start_time": "2021-03-07T07:46:37.774197",
     "status": "completed"
    },
    "tags": []
   },
   "outputs": [
    {
     "data": {
      "text/plain": [
       "<AxesSubplot:>"
      ]
     },
     "execution_count": 45,
     "metadata": {},
     "output_type": "execute_result"
    },
    {
     "data": {
      "image/png": "[encoded data removed]",
      "text/plain": [
       "<Figure size 432x288 with 2 Axes>"
      ]
     },
     "metadata": {},
     "output_type": "display_data"
    }
   ],
   "source": [
    "#Confusion Matrix\n",
    "import seaborn as sns\n",
    "sns.heatmap(matrix,annot=True,fmt='')"
   ]
  },
  {
   "cell_type": "code",
   "execution_count": 46,
   "metadata": {
    "execution": {
     "iopub.execute_input": "2021-03-07T07:46:40.212523Z",
     "iopub.status.busy": "2021-03-07T07:46:40.211831Z",
     "iopub.status.idle": "2021-03-07T07:46:44.112602Z",
     "shell.execute_reply": "2021-03-07T07:46:44.112144Z"
    },
    "papermill": {
     "duration": 4.566511,
     "end_time": "2021-03-07T07:46:44.112734",
     "exception": false,
     "start_time": "2021-03-07T07:46:39.546223",
     "status": "completed"
    },
    "tags": []
   },
   "outputs": [
    {
     "data": {
      "image/png": "[encoded data removed]",
      "text/plain": [
       "<Figure size 432x288 with 1 Axes>"
      ]
     },
     "metadata": {},
     "output_type": "display_data"
    },
    {
     "data": {
      "image/png": "[encoded data removed]",
      "text/plain": [
       "<Figure size 432x288 with 1 Axes>"
      ]
     },
     "metadata": {},
     "output_type": "display_data"
    }
   ],
   "source": [
    "#ROC Curve\n",
    "\n",
    "from sklearn.metrics import roc_curve\n",
    "y_pred_keras = model.predict(X_test).ravel()\n",
    "fpr_keras, tpr_keras, thresholds_keras = roc_curve(y_test, y_pred_keras)\n",
    "\n",
    "from sklearn.metrics import auc\n",
    "auc_keras = auc(fpr_keras, tpr_keras)\n",
    "\n",
    "plt.figure(1)\n",
    "plt.plot([0, 1], [0, 1], 'k--')\n",
    "plt.plot(fpr_keras, tpr_keras, label='Keras (area = {:.3f})'.format(auc_keras))\n",
    "#plt.plot(fpr_rf, tpr_rf, label='RF (area = {:.3f})'.format(auc_rf))\n",
    "plt.xlabel('False positive rate')\n",
    "plt.ylabel('True positive rate')\n",
    "plt.title('ROC curve')\n",
    "plt.legend(loc='best')\n",
    "plt.show()\n",
    "# Zoom in view of the upper left corner.\n",
    "plt.figure(2)\n",
    "plt.xlim(0, 0.2)\n",
    "plt.ylim(0.8, 1)\n",
    "plt.plot([0, 1], [0, 1], 'k--')\n",
    "plt.plot(fpr_keras, tpr_keras, label='Keras (area = {:.3f})'.format(auc_keras))\n",
    "#plt.plot(fpr_rf, tpr_rf, label='RF (area = {:.3f})'.format(auc_rf))\n",
    "plt.xlabel('False positive rate')\n",
    "plt.ylabel('True positive rate')\n",
    "plt.title('ROC curve (zoomed in at top left)')\n",
    "plt.legend(loc='best')\n",
    "plt.show()"
   ]
  }
 ],
 "metadata": {
  "kernelspec": {
   "display_name": "Python 3",
   "language": "python",
   "name": "python3"
  },
  "language_info": {
   "codemirror_mode": {
    "name": "ipython",
    "version": 3
   },
   "file_extension": ".py",
   "mimetype": "text/x-python",
   "name": "python",
   "nbconvert_exporter": "python",
   "pygments_lexer": "ipython3",
   "version": "3.7.9"
  },
  "papermill": {
   "default_parameters": {},
   "duration": 548.009842,
   "end_time": "2021-03-07T07:46:48.170115",
   "environment_variables": {},
   "exception": null,
   "input_path": "__notebook__.ipynb",
   "output_path": "__notebook__.ipynb",
   "parameters": {},
   "start_time": "2021-03-07T07:37:40.160273",
   "version": "2.2.2"
  }
 },
 "nbformat": 4,
 "nbformat_minor": 4
}
